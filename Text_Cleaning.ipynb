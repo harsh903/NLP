{
  "nbformat": 4,
  "nbformat_minor": 0,
  "metadata": {
    "colab": {
      "provenance": [],
      "authorship_tag": "ABX9TyP21zVLWoWWZjy6sAaJReu+",
      "include_colab_link": true
    },
    "kernelspec": {
      "name": "python3",
      "display_name": "Python 3"
    },
    "language_info": {
      "name": "python"
    }
  },
  "cells": [
    {
      "cell_type": "markdown",
      "metadata": {
        "id": "view-in-github",
        "colab_type": "text"
      },
      "source": [
        "<a href=\"https://colab.research.google.com/github/harsh903/NLP/blob/main/Text_Cleaning.ipynb\" target=\"_parent\"><img src=\"https://colab.research.google.com/assets/colab-badge.svg\" alt=\"Open In Colab\"/></a>"
      ]
    },
    {
      "cell_type": "code",
      "source": [
        "import nltk "
      ],
      "metadata": {
        "id": "4qm_dHXNQLQd"
      },
      "execution_count": 1,
      "outputs": []
    },
    {
      "cell_type": "code",
      "source": [
        "nltk.download('stopwords')\n",
        "nltk.download('wordnet')\n",
        "nltk.download('omw-1.4')"
      ],
      "metadata": {
        "colab": {
          "base_uri": "https://localhost:8080/"
        },
        "id": "Eq_JLj-HQQek",
        "outputId": "60f24f56-b360-4d5e-87d2-892c1fdd2be2"
      },
      "execution_count": 2,
      "outputs": [
        {
          "output_type": "stream",
          "name": "stderr",
          "text": [
            "[nltk_data] Downloading package stopwords to /root/nltk_data...\n",
            "[nltk_data]   Unzipping corpora/stopwords.zip.\n",
            "[nltk_data] Downloading package wordnet to /root/nltk_data...\n",
            "[nltk_data] Downloading package omw-1.4 to /root/nltk_data...\n"
          ]
        },
        {
          "output_type": "execute_result",
          "data": {
            "text/plain": [
              "True"
            ]
          },
          "metadata": {},
          "execution_count": 2
        }
      ]
    },
    {
      "cell_type": "code",
      "source": [
        "import re # regular expression module \n",
        "stemmer = nltk.SnowballStemmer(\"english\") # for stemming \n",
        "from nltk.corpus import stopwords\n",
        "import string\n",
        "stopword=set(stopwords.words('english')) # for stopword"
      ],
      "metadata": {
        "id": "nO2iubg4QQjJ"
      },
      "execution_count": 3,
      "outputs": []
    },
    {
      "cell_type": "code",
      "source": [
        "from nltk.stem import WordNetLemmatizer\n",
        "from nltk.tokenize import word_tokenize\n",
        "from nltk.tokenize.toktok import ToktokTokenizer\n",
        "from nltk.stem import LancasterStemmer,WordNetLemmatizer\n",
        "import re, string, unicodedata\n",
        "from string import punctuation"
      ],
      "metadata": {
        "id": "TxppV4sZQQli"
      },
      "execution_count": 4,
      "outputs": []
    },
    {
      "cell_type": "code",
      "execution_count": 12,
      "metadata": {
        "id": "sq1H4ZrpJ3IK"
      },
      "outputs": [],
      "source": [
        "class Text_cleaning:\n",
        "  def __init__(self): # init is constructor\n",
        "    self.text = ''\n",
        "    \n",
        "    def hapus_url(text):\n",
        "      return re.sub(r'http\\S+','', text)\n",
        "    \n",
        "    def remove_special_characters(text, remove_digits=True):\n",
        "      pattern=r'[^a-zA-Z0-9\\s]'\n",
        "      text=re.sub(pattern,'',text)\n",
        "      return text\n",
        "    \n",
        "    def lemmi(text):\n",
        "      lemmatizer = WordNetLemmatizer()\n",
        "      text=' '.join([lemmatizer.lemmatize(word) for word in text.split()])\n",
        "      return text\n",
        "\n",
        "    def final_clean(text):\n",
        "      final_text= []\n",
        "      for i in text.split():\n",
        "          if i.strip().lower() not in stopword and i.strip().lower().isalpha():\n",
        "              final_text.append(i.strip().lower())\n",
        "      return \" \".join(final_text)\n",
        "    \n",
        "    def clean(text):\n",
        "      text = hapus_url(text)\n",
        "      text = remove_special_characters(text, remove_digits=True)\n",
        "      text = lemmi(text)\n",
        "      text = final_clean(text)\n",
        "      return self.text"
      ]
    },
    {
      "cell_type": "code",
      "source": [
        "clean = Text_cleaning()"
      ],
      "metadata": {
        "id": "bcxYS09CSFd_"
      },
      "execution_count": 17,
      "outputs": []
    },
    {
      "cell_type": "code",
      "source": [
        "sen = \"He is very good boy.\""
      ],
      "metadata": {
        "id": "JqnYsKozSymd"
      },
      "execution_count": 18,
      "outputs": []
    },
    {
      "cell_type": "code",
      "source": [
        "sen.clean()"
      ],
      "metadata": {
        "colab": {
          "base_uri": "https://localhost:8080/",
          "height": 168
        },
        "id": "2RVSq_CHS5BO",
        "outputId": "ed175964-27f9-4711-9874-768c2deb20af"
      },
      "execution_count": 20,
      "outputs": [
        {
          "output_type": "error",
          "ename": "AttributeError",
          "evalue": "ignored",
          "traceback": [
            "\u001b[0;31m---------------------------------------------------------------------------\u001b[0m",
            "\u001b[0;31mAttributeError\u001b[0m                            Traceback (most recent call last)",
            "\u001b[0;32m<ipython-input-20-ec90abb57ff3>\u001b[0m in \u001b[0;36m<module>\u001b[0;34m\u001b[0m\n\u001b[0;32m----> 1\u001b[0;31m \u001b[0msen\u001b[0m\u001b[0;34m.\u001b[0m\u001b[0mclean\u001b[0m\u001b[0;34m(\u001b[0m\u001b[0;34m)\u001b[0m\u001b[0;34m\u001b[0m\u001b[0;34m\u001b[0m\u001b[0m\n\u001b[0m",
            "\u001b[0;31mAttributeError\u001b[0m: 'str' object has no attribute 'clean'"
          ]
        }
      ]
    }
  ]
}